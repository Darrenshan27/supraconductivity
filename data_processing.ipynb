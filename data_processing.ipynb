{
 "cells": [
  {
   "cell_type": "code",
   "execution_count": null,
   "metadata": {},
   "outputs": [],
   "source": [
    "import numpy as np\n",
    "import matplotlib.pyplot as plt\n",
    "import pandas as pd\n",
    "import os"
   ]
  },
  {
   "cell_type": "code",
   "execution_count": null,
   "metadata": {},
   "outputs": [],
   "source": [
    "'''\n",
    "https://www.dropbox.com/scl/fo/sbrys0mdgpxeqotm57sg6/AEnV65s46W_jdwOhBBFqLyI?rlkey=n01qpo6pzp3q2fydrrqiamlxo&st=2bv1hmhd&dl=0'\n",
    "'''"
   ]
  },
  {
   "cell_type": "code",
   "execution_count": null,
   "metadata": {},
   "outputs": [],
   "source": [
    "# Magnetfeld einer Leiterschleife auf der z-Achse\n",
    "def magnetic_field_n_coils(R, I, z, d, n):\n",
    "    mu_0 = 4 * np.pi * 1e-7  # Magnetische Feldkonstante in N/A^2\n",
    "    B_total = np.zeros_like(z)\n",
    "    \n",
    "    # Summe der Magnetfelder der n übereinander gestapelten Leiterschleifen\n",
    "    for i in range(n):\n",
    "        z_i = z - i * d\n",
    "        B_total += (mu_0 * I * R**2) / (2 * (R**2 + z_i**2)**(3/2))\n",
    "    \n",
    "    return B_total\n",
    "\n",
    "# Plotten des Magnetfeldes über z\n",
    "def plot_magnetic_field(R, I, d, n, z_min, z_max, num_points):\n",
    "    z_values = np.linspace(z_min, z_max, num_points)\n",
    "    B_values = magnetic_field_n_coils(R, I, z_values, d, n)\n",
    "    \n",
    "    plt.figure(figsize=(8, 6))\n",
    "    plt.plot(z_values, B_values, label=f'R={R} m, I={I} A, d={d} m, n={n}')\n",
    "    plt.title('Magnetfeld entlang der z-Achse für n Leiterschleifen')\n",
    "    plt.xlabel('z (m)')\n",
    "    plt.ylabel('B (T)')\n",
    "    #plt.grid(True)\n",
    "    plt.legend()\n",
    "    plt.show()\n",
    "\n",
    "\n"
   ]
  },
  {
   "cell_type": "code",
   "execution_count": null,
   "metadata": {},
   "outputs": [],
   "source": [
    "# Beispielaufruf für die Funktion mit parametern\n",
    "R = 0.1  # Radius in Metern\n",
    "I = 1.0  # Strom in Ampere\n",
    "d = 0.05  # Abstand zwischen den Leiterschleifen in Metern\n",
    "n = 10    # Anzahl der Leiterschleifen\n",
    "z_min = -1.0  # z-Bereich Minimum in Metern\n",
    "z_max = 1.0   # z-Bereich Maximum in Metern\n",
    "num_points = 1000  # Anzahl der Punkte auf der z-Achse\n",
    "\n",
    "plot_magnetic_field(R, I, d, n, z_min, z_max, num_points)"
   ]
  },
  {
   "cell_type": "code",
   "execution_count": null,
   "metadata": {},
   "outputs": [],
   "source": [
    "# Berechnung des Magnetfelds B mit der gegebenen Gleichung\n",
    "def calculate_magnetic_field(N, I, r_0, r_i, L):\n",
    "    term_0 = r_0 + np.sqrt(r_0**2 + (L**2 / 2**2))\n",
    "    term_i = r_i + np.sqrt(r_i**2 + (L**2 / 2**2))\n",
    "    B = (1/2) * (N * I / (r_0 - r_i)) * np.log(term_0 / term_i)\n",
    "    \n",
    "    return B\n",
    "\n",
    "# Beispielaufruf für die Funktion mit parametern\n",
    "N = 100  # Anzahl der Windungen\n",
    "I = 1.0  # Strom in Ampere\n",
    "r_0 = 0.1  # äußerer Radius in Metern\n",
    "r_i = 0.05  # innerer Radius in Metern\n",
    "L = 0.2  # Länge der Spule in Metern\n",
    "\n",
    "B_result = calculate_magnetic_field(N, I, r_0, r_i, L)\n",
    "B_result\n",
    "\n"
   ]
  },
  {
   "cell_type": "code",
   "execution_count": null,
   "metadata": {},
   "outputs": [],
   "source": [
    "def read_dat_file(file_path):\n",
    "    \"\"\"\n",
    "    Liest eine .dat-Datei ein, überspringt den Metatext und gibt die Daten zurück.\n",
    "    \n",
    "    :param file_path: Pfad zur .dat-Datei\n",
    "    :return: Pandas DataFrame mit den eingelesenen Daten\n",
    "    \"\"\"\n",
    "    with open(file_path, 'r') as file:\n",
    "        lines = file.readlines()\n",
    "\n",
    "    # Finde heraus, wo die letzte Zeile des Metatexts \"Kommentar:\" ist\n",
    "    for i, line in enumerate(lines):\n",
    "        if \"Kommentar:\" in line:\n",
    "            data_start = i + 1  # Die Daten starten nach dieser Zeile\n",
    "            break\n",
    "\n",
    "    # Lese die Daten ab der gefundenen Zeile ein\n",
    "    data = pd.read_csv(file_path, skiprows=data_start, delim_whitespace=True)\n",
    "    \n",
    "    return data\n",
    "\n",
    "def list_dat_files(directory):\n",
    "    \"\"\"\n",
    "    Gibt eine Liste aller .dat-Dateien in einem Verzeichnis zurück.\n",
    "    \n",
    "    :param directory: Verzeichnis, in dem nach .dat-Dateien gesucht wird\n",
    "    :return: Liste der .dat-Dateien\n",
    "    \"\"\"\n",
    "    return [file for file in os.listdir(directory) if file.endswith('.dat')]\n",
    "\n",
    "# Beispiel-Nutzung:\n",
    "# daten = read_dat_file('path/to/deine_datei.dat')\n",
    "# dat_dateien = list_dat_files('path/to/dein_verzeichnis')\n"
   ]
  }
 ],
 "metadata": {
  "language_info": {
   "name": "python"
  }
 },
 "nbformat": 4,
 "nbformat_minor": 2
}
